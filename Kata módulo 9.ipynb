{
 "cells": [
  {
   "cell_type": "markdown",
   "metadata": {},
   "source": [
    "## Ejercicio 1"
   ]
  },
  {
   "cell_type": "code",
   "execution_count": 13,
   "metadata": {},
   "outputs": [
    {
     "name": "stdout",
     "output_type": "stream",
     "text": [
      "Informe de Conbustible:\n",
      "    Promedio Total: 78.33333333333333 %\n",
      "    TanquePrincipal: 80 %\n",
      "    TanqueSecundario: 70 %\n",
      "    TanqueReserva: 85 % \n",
      "    \n",
      " Informe de Conbustible:\n",
      "    Promedio Total: 78.0 %\n",
      "    TanquePrincipal: 88 %\n",
      "    TanqueSecundario: 76 %\n",
      "    TanqueReserva: 70 % \n",
      "    \n"
     ]
    }
   ],
   "source": [
    "def Informe(TanquePrincipal, TanqueSecundario, TanqueReserva):\n",
    "    Promedio = (TanquePrincipal + TanqueSecundario + TanqueReserva) / 3\n",
    "    return f\"\"\"Informe de Conbustible:\n",
    "    Promedio Total: {Promedio} %\n",
    "    TanquePrincipal: {TanquePrincipal} %\n",
    "    TanqueSecundario: {TanqueSecundario} %\n",
    "    TanqueReserva: {TanqueReserva} % \n",
    "    \"\"\"\n",
    "print(Informe(80, 70, 85))\n",
    "\n",
    "def Promedio(Valores):\n",
    "    Total = sum(Valores)\n",
    "    NumerodeElementos = len(Valores)\n",
    "    return Total / NumerodeElementos\n",
    "\n",
    "Promedio([80, 85, 81])\n",
    "\n",
    "def Informe(TanquePrincipal, TanqueSecundario, TanqueReserva):\n",
    "    return f\"\"\" Informe de Conbustible:\n",
    "    Promedio Total: {Promedio([TanquePrincipal, TanqueSecundario, TanqueReserva])} %\n",
    "    TanquePrincipal: {TanquePrincipal} %\n",
    "    TanqueSecundario: {TanqueSecundario} %\n",
    "    TanqueReserva: {TanqueReserva} % \n",
    "    \"\"\"\n",
    "print(Informe(88, 76, 70))\n"
   ]
  },
  {
   "cell_type": "markdown",
   "metadata": {},
   "source": [
    "## Ejercicio 2"
   ]
  },
  {
   "cell_type": "code",
   "execution_count": 23,
   "metadata": {},
   "outputs": [
    {
     "name": "stdout",
     "output_type": "stream",
     "text": [
      "\n",
      "    Mision a Marte\n",
      "    Tiempo de Viaje: 37 minutos\n",
      "    Conbustible disponible: 7500000 litros\n",
      "    \n",
      "\n",
      "    Mision a Marte\n",
      "    Tiempo de Viaje: 95 minutos\n",
      "    Conbustible disponible: 6500000 \n",
      "    \n",
      "\n",
      "    Mision a Marte\n",
      "    Tiempo de Viaje: 95 minutos\n",
      "    Conbustible disponible: 6500000 \n",
      "    Interno Tanque --> 4500000 litros\n",
      "Externo Tanque --> 2000000 litros\n",
      "\n"
     ]
    }
   ],
   "source": [
    "def InformeMision(Prelanzamiento, TiempodeVuelo, Destino, TanqueExterno, TanqueInterno):\n",
    "    return f\"\"\"\n",
    "    Mision a {Destino}\n",
    "    Tiempo de Viaje: {Prelanzamiento + TiempodeVuelo} minutos\n",
    "    Conbustible disponible: {TanqueExterno + TanqueInterno} litros\n",
    "    \"\"\"\n",
    "print(InformeMision(7, 30, \"Marte\", 5000000, 2500000))\n",
    "\n",
    "def InformeMision(Destino,*Minutos, **DepositosConbustible):\n",
    "    return f\"\"\"\n",
    "    Mision a {Destino}\n",
    "    Tiempo de Viaje: {sum(Minutos)} minutos\n",
    "    Conbustible disponible: {sum(DepositosConbustible.values())} \n",
    "    \"\"\"\n",
    "print(InformeMision(\"Marte\", 20, 45, 30, interno=4500000, externo=2000000))\n",
    "\n",
    "def InformeMision(Destino,*Minutos, **DepositosConbustible):\n",
    "    Reporte = f\"\"\"\n",
    "    Mision a {Destino}\n",
    "    Tiempo de Viaje: {sum(Minutos)} minutos\n",
    "    Conbustible disponible: {sum(DepositosConbustible.values())} \n",
    "    \"\"\"\n",
    "    for NombreTanque, litros in DepositosConbustible.items():\n",
    "        Reporte += f\"{NombreTanque} Tanque --> {litros} litros\\n\"\n",
    "    return Reporte\n",
    "\n",
    "print(InformeMision(\"Marte\", 20, 45, 30, Interno=4500000, Externo=2000000))\n"
   ]
  }
 ],
 "metadata": {
  "interpreter": {
   "hash": "6986685b00823dabef8a03f3dc7333987d57acf84af3593e88673b3ffd7429a9"
  },
  "kernelspec": {
   "display_name": "Python 3.10.2 64-bit",
   "language": "python",
   "name": "python3"
  },
  "language_info": {
   "codemirror_mode": {
    "name": "ipython",
    "version": 3
   },
   "file_extension": ".py",
   "mimetype": "text/x-python",
   "name": "python",
   "nbconvert_exporter": "python",
   "pygments_lexer": "ipython3",
   "version": "3.10.2"
  },
  "orig_nbformat": 4
 },
 "nbformat": 4,
 "nbformat_minor": 2
}
