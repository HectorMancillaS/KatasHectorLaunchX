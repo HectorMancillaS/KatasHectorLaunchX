{
 "cells": [
  {
   "cell_type": "markdown",
   "metadata": {},
   "source": [
    "## Kata del módulo 4"
   ]
  },
  {
   "cell_type": "code",
   "execution_count": 1,
   "metadata": {},
   "outputs": [
    {
     "name": "stdout",
     "output_type": "stream",
     "text": [
      " The Moon is Earth's only satellite\n",
      " There are several interesting facts about the Moon and how it affects life here on Earth\n",
      " This yearly drift is not significant enough to cause immediate effects on Earth\n",
      " The highest daylight temperature of the Moon is 127 C\n",
      "Interesting facts about the Moon\n",
      " The Moon is Earth's only satellite\n",
      " There are several interesting facts about the Moon and how it affects life here on Earth\n",
      " This yearly drift is not significant enough to cause immediate effects on Earth\n",
      " The highest daylight temperature of the Moon is 127 Celsius\n"
     ]
    }
   ],
   "source": [
    "Texto = \"\"\"Interesting facts about the Moon. The Moon is Earth's only satellite. There are several interesting facts about the Moon and how it affects life here on Earth. On average, the Moon moves 4cm away from the Earth every year. This yearly drift is not significant enough to cause immediate effects on Earth. The highest daylight temperature of the Moon is 127 C.\"\"\"\n",
    "Partes = Texto .split(\".\")\n",
    "\n",
    "Palabras = (\"average\", \"temperature\", \"distance\")\n",
    "\n",
    "for Oracion in Partes:\n",
    "    for Palabras in Palabras:\n",
    "        if Palabras in Oracion:\n",
    "            print(Oracion)\n",
    "            break\n",
    "\n",
    "for Oracion in Partes:\n",
    "    for Palabras in Palabras:\n",
    "        if Palabras in Oracion:\n",
    "            print(Oracion.replace(' C', ' Celsius'))\n",
    "            break"
   ]
  },
  {
   "cell_type": "code",
   "execution_count": 2,
   "metadata": {},
   "outputs": [
    {
     "name": "stdout",
     "output_type": "stream",
     "text": [
      "La Grabedad Del Planeta Tierra\n",
      "--------------------------------------------------------------------------------\n",
      "Nombre del planeta: Tierra\n",
      "Gravedad en Luna: 1.62 m/s2\n",
      "\n",
      "\n",
      "Dato de Gravedad sobre: Europa\n",
      "----------------------------------------------------------------\n",
      "Nombre del Planeta: Jupiter Gravedad en 1.315 m/s2\n",
      "\n"
     ]
    }
   ],
   "source": [
    "Nombre = \"Luna\"\n",
    "Gravedad = 0.00162 # in kms\n",
    "Planeta = \"Tierra\"\n",
    "\n",
    "Titulo = f\"La grabedad del planeta {Planeta}\"\n",
    "planilla = f\"\"\"{'-'*80}\n",
    "Nombre del planeta: {Planeta}\n",
    "Gravedad en {Nombre}: {round(Gravedad * 1000, 2)} m/s2\n",
    "\"\"\"\n",
    "\n",
    "Datos = f\"\"\"{Titulo.title()}\n",
    "{planilla}\n",
    "\"\"\"\n",
    "print(Datos)\n",
    "\n",
    "Nuevos_Datos = \"\"\"Dato de Gravedad sobre: {Nombre}\n",
    "----------------------------------------------------------------\n",
    "Nombre del Planeta: {Planeta} Gravedad en {Gravedad} m/s2\n",
    "\"\"\"\n",
    "\n",
    "print(Nuevos_Datos.format(Nombre = \"Europa\", Gravedad = 0.001315*1000, Planeta = \"Jupiter\"))"
   ]
  }
 ],
 "metadata": {
  "interpreter": {
   "hash": "6986685b00823dabef8a03f3dc7333987d57acf84af3593e88673b3ffd7429a9"
  },
  "kernelspec": {
   "display_name": "Python 3.10.2 64-bit",
   "language": "python",
   "name": "python3"
  },
  "language_info": {
   "codemirror_mode": {
    "name": "ipython",
    "version": 3
   },
   "file_extension": ".py",
   "mimetype": "text/x-python",
   "name": "python",
   "nbconvert_exporter": "python",
   "pygments_lexer": "ipython3",
   "version": "3.10.2"
  },
  "orig_nbformat": 4
 },
 "nbformat": 4,
 "nbformat_minor": 2
}
