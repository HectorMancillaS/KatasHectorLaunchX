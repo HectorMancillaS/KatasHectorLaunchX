{
 "cells": [
  {
   "cell_type": "markdown",
   "metadata": {},
   "source": [
    "## Kata del módulo 6"
   ]
  },
  {
   "cell_type": "code",
   "execution_count": 1,
   "metadata": {},
   "outputs": [
    {
     "name": "stdout",
     "output_type": "stream",
     "text": [
      "El utlimo planta es Pluton\n"
     ]
    }
   ],
   "source": [
    "Planetas = ['Mercurio', 'Venus', 'Tierra', 'Marte', 'Jupoter', 'Saturno', 'Urano', 'Neptuno']\n",
    "Planetas.append('Pluton')\n",
    "NumerodePlanetas = len(Planetas)\n",
    "print (\"El utlimo planta es\", Planetas[-1])"
   ]
  },
  {
   "cell_type": "code",
   "execution_count": 3,
   "metadata": {},
   "outputs": [
    {
     "name": "stdout",
     "output_type": "stream",
     "text": [
      "4\n",
      "Los planetas mas cercanos al sol antes del que seleccionaste son: 4\n",
      "['Mercurio', 'Venus', 'Tierra', 'Marte']\n",
      "Los planetas mas a lejados del sol despues del que selecionaste son: 4\n",
      "['Saturno', 'Urano', 'Neptuno']\n"
     ]
    }
   ],
   "source": [
    "Planetas = ['Mercurio', 'Venus', 'Tierra', 'Marte', 'Jupiter', 'Saturno', 'Urano', 'Neptuno']\n",
    "Planetasolicitado = input(\"Teclea el nombre de un Planeta (Primer leta mayuscula)\")\n",
    "NumeroPlaneta = Planetas.index(Planetasolicitado)\n",
    "print(NumeroPlaneta)\n",
    "Pocicion = slice(NumeroPlaneta)\n",
    "print(\"Los planetas mas cercanos al sol antes del que seleccionaste son:\", + NumeroPlaneta )\n",
    "print(Planetas[0:NumeroPlaneta])\n",
    "print(\"Los planetas mas a lejados del sol despues del que selecionaste son:\", + NumeroPlaneta )\n",
    "print(Planetas[NumeroPlaneta + 1:])"
   ]
  }
 ],
 "metadata": {
  "interpreter": {
   "hash": "6986685b00823dabef8a03f3dc7333987d57acf84af3593e88673b3ffd7429a9"
  },
  "kernelspec": {
   "display_name": "Python 3.10.2 64-bit",
   "language": "python",
   "name": "python3"
  },
  "language_info": {
   "codemirror_mode": {
    "name": "ipython",
    "version": 3
   },
   "file_extension": ".py",
   "mimetype": "text/x-python",
   "name": "python",
   "nbconvert_exporter": "python",
   "pygments_lexer": "ipython3",
   "version": "3.10.2"
  },
  "orig_nbformat": 4
 },
 "nbformat": 4,
 "nbformat_minor": 2
}
