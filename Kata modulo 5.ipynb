{
 "cells": [
  {
   "cell_type": "markdown",
   "metadata": {},
   "source": [
    "## Kata del módulo 5"
   ]
  },
  {
   "cell_type": "code",
   "execution_count": null,
   "metadata": {},
   "outputs": [],
   "source": [
    "DistanciaTierra = 149597870\n",
    "DistanciaJupiter = 778547200\n",
    "DiferenciaKM = DistanciaJupiter - DistanciaTierra\n",
    "print(DiferenciaKM)\n",
    "DiferenciaMI = DiferenciaKM // 1.609344\n",
    "print(DiferenciaMI)"
   ]
  },
  {
   "cell_type": "code",
   "execution_count": null,
   "metadata": {},
   "outputs": [],
   "source": [
    "PrimerPlaneta = input(\"Introdusca la distancia en Kilometos del sol al primer planeta\")\n",
    "SegundoPlaneta = input(\"Introdusca la distancia en kilometos del sol al segundo planeta\")\n",
    "PrimerPlaneta = int(PrimerPlaneta)\n",
    "SegundoPlaneta = int(SegundoPlaneta)\n",
    "DiferenciaKM = SegundoPlaneta - PrimerPlaneta\n",
    "print(DiferenciaKM)\n",
    "DiferenciaMI = DiferenciaKM // 1.609344\n",
    "DiferenciaMI = int(DiferenciaMI)\n",
    "print(DiferenciaMI)"
   ]
  }
 ],
 "metadata": {
  "interpreter": {
   "hash": "6986685b00823dabef8a03f3dc7333987d57acf84af3593e88673b3ffd7429a9"
  },
  "kernelspec": {
   "display_name": "Python 3.10.2 64-bit",
   "language": "python",
   "name": "python3"
  },
  "language_info": {
   "codemirror_mode": {
    "name": "ipython",
    "version": 3
   },
   "file_extension": ".py",
   "mimetype": "text/x-python",
   "name": "python",
   "nbconvert_exporter": "python",
   "pygments_lexer": "ipython3",
   "version": "3.10.2"
  },
  "orig_nbformat": 4
 },
 "nbformat": 4,
 "nbformat_minor": 2
}
