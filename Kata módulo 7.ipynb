{
 "cells": [
  {
   "cell_type": "code",
   "execution_count": 1,
   "metadata": {},
   "outputs": [],
   "source": [
    "NuevoPlaneta = ''\n",
    "Planetas = []\n",
    "while NuevoPlaneta.lower() != 'done':\n",
    "    if NuevoPlaneta:\n",
    "        Planetas.append(NuevoPlaneta)\n",
    "    NuevoPlaneta = input(\"Escribe otro planeta\")\n"
   ]
  },
  {
   "cell_type": "code",
   "execution_count": 2,
   "metadata": {},
   "outputs": [
    {
     "name": "stdout",
     "output_type": "stream",
     "text": [
      "Tierra\n",
      "Marte\n",
      "Jupiter\n"
     ]
    }
   ],
   "source": [
    "for Planeta in Planetas:\n",
    "    print(Planeta)"
   ]
  }
 ],
 "metadata": {
  "interpreter": {
   "hash": "6986685b00823dabef8a03f3dc7333987d57acf84af3593e88673b3ffd7429a9"
  },
  "kernelspec": {
   "display_name": "Python 3.10.2 64-bit",
   "language": "python",
   "name": "python3"
  },
  "language_info": {
   "codemirror_mode": {
    "name": "ipython",
    "version": 3
   },
   "file_extension": ".py",
   "mimetype": "text/x-python",
   "name": "python",
   "nbconvert_exporter": "python",
   "pygments_lexer": "ipython3",
   "version": "3.10.2"
  },
  "orig_nbformat": 4
 },
 "nbformat": 4,
 "nbformat_minor": 2
}
