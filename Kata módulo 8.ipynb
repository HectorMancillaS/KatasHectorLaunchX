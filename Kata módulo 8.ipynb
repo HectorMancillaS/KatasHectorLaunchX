{
 "cells": [
  {
   "cell_type": "code",
   "execution_count": 5,
   "metadata": {},
   "outputs": [
    {
     "name": "stdout",
     "output_type": "stream",
     "text": [
      "Marte tiene 2 lunas\n",
      "Marte tiene una circunferencia polar 6752\n",
      "Marte tiene una circunferencia ecuatorial 6792\n"
     ]
    }
   ],
   "source": [
    "Planeta = {\n",
    "    'Nombre': 'Marte',\n",
    "    'Lunas' : 2\n",
    "}\n",
    "print(f'{Planeta[\"Nombre\"]} tiene {Planeta[\"Lunas\"]} lunas')\n",
    "Planeta['Circunferencia (km)'] = {\n",
    "    'Polar' : 6752,\n",
    "    'Ecuatorial' :6792\n",
    "}\n",
    "print(f'{Planeta [\"Nombre\"]} tiene una circunferencia polar {Planeta[\"Circunferencia (km)\"][\"Polar\"]}')\n",
    "print(f'{Planeta [\"Nombre\"]} tiene una circunferencia ecuatorial {Planeta[\"Circunferencia (km)\"][\"Ecuatorial\"]}')"
   ]
  },
  {
   "cell_type": "code",
   "execution_count": 7,
   "metadata": {},
   "outputs": [
    {
     "name": "stdout",
     "output_type": "stream",
     "text": [
      "17.83\n"
     ]
    }
   ],
   "source": [
    "PlanetayLunas = {\n",
    "    'Mercurio' : 0,\n",
    "    'Venus' : 0,\n",
    "    'Tierra' : 1,\n",
    "    'Marte' : 2,\n",
    "    'Jupiter' : 79,\n",
    "    'Saturno' : 82,\n",
    "    'Urano' : 27,\n",
    "    'Neptuno' : 14,\n",
    "    'Pluton' : 5,\n",
    "    'Haumea' : 2,\n",
    "    'Makemake' : 1,\n",
    "    'Eris' : 1,\n",
    "}\n",
    "Lunas = PlanetayLunas.values()\n",
    "Planetas = len(PlanetayLunas.keys())\n",
    "TotalLunas = 0\n",
    "for Luna in Lunas:\n",
    "    TotalLunas = TotalLunas + Luna\n",
    "promedio = TotalLunas / Planetas\n",
    "print(round(promedio,2))"
   ]
  }
 ],
 "metadata": {
  "interpreter": {
   "hash": "6986685b00823dabef8a03f3dc7333987d57acf84af3593e88673b3ffd7429a9"
  },
  "kernelspec": {
   "display_name": "Python 3.10.2 64-bit",
   "language": "python",
   "name": "python3"
  },
  "language_info": {
   "codemirror_mode": {
    "name": "ipython",
    "version": 3
   },
   "file_extension": ".py",
   "mimetype": "text/x-python",
   "name": "python",
   "nbconvert_exporter": "python",
   "pygments_lexer": "ipython3",
   "version": "3.10.2"
  },
  "orig_nbformat": 4
 },
 "nbformat": 4,
 "nbformat_minor": 2
}
