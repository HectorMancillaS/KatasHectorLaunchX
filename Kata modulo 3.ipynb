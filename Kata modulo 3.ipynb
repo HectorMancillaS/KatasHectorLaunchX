{
 "cells": [
  {
   "cell_type": "markdown",
   "metadata": {},
   "source": [
    "## Kata modulo 3"
   ]
  },
  {
   "cell_type": "code",
   "execution_count": null,
   "metadata": {},
   "outputs": [],
   "source": [
    "Asteroide = 20\n",
    "if Asteroide > 25:\n",
    "    print (\"¡Alerta! Un Asteroide se acerca a la Tierra demaciado rapido\")\n",
    "else:\n",
    "    print (\"Todo en orden, ten un buen día\")"
   ]
  },
  {
   "cell_type": "code",
   "execution_count": null,
   "metadata": {},
   "outputs": [],
   "source": [
    "Asteroide = 21\n",
    "if Asteroide > 20:\n",
    "    print (\"Asteoide entrando a la tierra voltea al cielo a ver el rayo de luz\")\n",
    "elif Asteroide == 20: \n",
    "    print (\"Asteoide entrando a la tierra voltea al cielo a ver el rayo de luz\")\n",
    "else:\n",
    "    print (\"Sin novedades, Exelente día\")"
   ]
  },
  {
   "cell_type": "code",
   "execution_count": null,
   "metadata": {},
   "outputs": [],
   "source": [
    "VelocidadAsteroide = 24\n",
    "TamanoAsteroide = 24\n",
    "if VelocidadAsteroide > 25 or TamanoAsteroide >= 25:\n",
    "    print('¡Alerta! Un Asteroide peligroso se dirige a la Tierra!')\n",
    "elif VelocidadAsteroide >= 20:\n",
    "    print('Asteoide entrando a la tierra voltea al cielo a ver el rayo de luz')\n",
    "elif TamanoAsteroide < 25:\n",
    "    print('Sin Novedades, Buen Día')\n",
    "else:\n",
    "    print('Sin Novedades, Buen Día')"
   ]
  }
 ],
 "metadata": {
  "interpreter": {
   "hash": "6986685b00823dabef8a03f3dc7333987d57acf84af3593e88673b3ffd7429a9"
  },
  "kernelspec": {
   "display_name": "Python 3.10.2 64-bit",
   "language": "python",
   "name": "python3"
  },
  "language_info": {
   "name": "python",
   "version": "3.10.2"
  },
  "orig_nbformat": 4
 },
 "nbformat": 4,
 "nbformat_minor": 2
}
